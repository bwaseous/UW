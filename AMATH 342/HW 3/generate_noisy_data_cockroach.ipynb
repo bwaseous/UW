{
 "cells": [
  {
   "cell_type": "code",
   "execution_count": 42,
   "metadata": {},
   "outputs": [],
   "source": [
    "import matplotlib.pylab as plt   # That gives plotting, and the next line makes plots appear inline in notebook\n",
    "%matplotlib inline \n",
    "plt.rcParams['figure.dpi']=300\n",
    "\n",
    "import numpy as np  # That gives numerical arrays and tools for manipulating them"
   ]
  },
  {
   "cell_type": "markdown",
   "metadata": {},
   "source": [
    "#### Define tuning curves"
   ]
  },
  {
   "cell_type": "code",
   "execution_count": 43,
   "metadata": {},
   "outputs": [],
   "source": [
    "def gaussian(mu,sigma, x):   \n",
    "    maxrate = 300 # max firing rate\n",
    "    f = maxrate*np.exp(-0.5*((x-mu)/sigma)**2)\n",
    "    return f\n",
    "\n",
    "def cockroach_tuning(stim_dir, cell_num):\n",
    "    \n",
    "    if cell_num == 1:\n",
    "        mu = 45\n",
    "        sigma = 5\n",
    "        f = gaussian(mu, sigma, stim_dir)\n",
    "    elif cell_num == 2:\n",
    "        mu = 45\n",
    "        sigma = 10\n",
    "        f = gaussian(mu, sigma, stim_dir) \n",
    "    else:\n",
    "        mu = 30\n",
    "        sigma = 10\n",
    "        f1 = gaussian(mu, sigma, stim_dir)\n",
    "        mu = 60\n",
    "        f2 = gaussian(mu, sigma, stim_dir)\n",
    "        f = (f1 + f2)\n",
    "\n",
    "    return f"
   ]
  },
  {
   "cell_type": "markdown",
   "metadata": {},
   "source": [
    "# Enter stimulus direction (in degrees) and cell number here"
   ]
  },
  {
   "cell_type": "code",
   "execution_count": 81,
   "metadata": {},
   "outputs": [],
   "source": [
    "stimDir=80\n",
    "cell_num=1"
   ]
  },
  {
   "cell_type": "markdown",
   "metadata": {},
   "source": [
    "# Enter number of trials (ntrials), and duration of each trial (nmsec) here"
   ]
  },
  {
   "cell_type": "code",
   "execution_count": 82,
   "metadata": {},
   "outputs": [],
   "source": [
    "ntrials=10\n",
    "nmsec = 300    # number of milliseconds to record for"
   ]
  },
  {
   "cell_type": "markdown",
   "metadata": {},
   "source": [
    "### Generate spike train"
   ]
  },
  {
   "cell_type": "code",
   "execution_count": 83,
   "metadata": {},
   "outputs": [
    {
     "data": {
      "text/plain": [
       "<matplotlib.image.AxesImage at 0x2674f0f2370>"
      ]
     },
     "execution_count": 83,
     "metadata": {},
     "output_type": "execute_result"
    },
    {
     "data": {
      "image/png": "[encoded data removed]",
      "text/plain": [
       "<Figure size 1800x1200 with 1 Axes>"
      ]
     },
     "metadata": {
      "needs_background": "light"
     },
     "output_type": "display_data"
    }
   ],
   "source": [
    "times=np.arange(nmsec) #array of time points (1 msec apart)\n",
    "spiketrain = np.zeros((ntrials,nmsec))      # set up output data\n",
    "\n",
    "rate = cockroach_tuning(stimDir, cell_num)  #returns rate, in Hz.       \n",
    "tau = 100      # adaptation time constant in msec\n",
    "delta_t=0.001  #time bin, in seconds (1 msec)\n",
    "ratelist = rate*np.exp(-times/tau)  # list of adapting rates \n",
    "\n",
    "\n",
    "rng = np.random.default_rng()\n",
    "\n",
    "for j in np.arange(ntrials):    \n",
    "    for i in np.arange(nmsec):\n",
    "               spiketrain[j,i] = np.round(rng.uniform(0,1,1) + ratelist[i]*delta_t -1/2 )\n",
    "            \n",
    "            \n",
    "plt.imshow(spiketrain)\n"
   ]
  },
  {
   "cell_type": "code",
   "execution_count": null,
   "metadata": {},
   "outputs": [],
   "source": []
  }
 ],
 "metadata": {
  "kernelspec": {
   "display_name": "Python 3 (ipykernel)",
   "language": "python",
   "name": "python3"
  },
  "language_info": {
   "codemirror_mode": {
    "name": "ipython",
    "version": 3
   },
   "file_extension": ".py",
   "mimetype": "text/x-python",
   "name": "python",
   "nbconvert_exporter": "python",
   "pygments_lexer": "ipython3",
   "version": "3.9.7"
  }
 },
 "nbformat": 4,
 "nbformat_minor": 4
}
