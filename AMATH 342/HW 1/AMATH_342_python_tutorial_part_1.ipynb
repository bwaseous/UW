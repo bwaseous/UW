{
 "cells": [
  {
   "cell_type": "markdown",
   "metadata": {},
   "source": [
    "# AMATH 422/522 Python Lab Manual, Part 1 "
   ]
  },
  {
   "cell_type": "markdown",
   "metadata": {},
   "source": [
    "This tutorial draws heavily on sources including:\n",
    "\n",
    "* The translation of Chapter 1 of\n",
    "\n",
    ">D. J. Higham and N.J. Higham.  \n",
    ">[MATLAB Guide](http://www.ec-securehost.com/SIAM/ot92.html), Second edition,  \n",
    ">Society for Industrial and Applied Mathematics, Philadelphia, PA, USA,  \n",
    ">2005, ISBN 0-89871-578-4\n",
    "\n",
    "into MATLAB code by Don MacMillen, at https://nbviewer.jupyter.org/gist/macd/10562695\n",
    "\n",
    "* The Allen Institute's superb Python Bootcamp, at https://github.com/AllenInstitute/SWDB_2019/tree/master/PythonBootcamp\n",
    "\n",
    "I strongly encourage you to visit the Allen's Python Bootcamp for much more -- including a general introduction to Python's fundamental data structures and objects!  Here we will focus on getting going fast with numerical computing.\n",
    "\n",
    "It is also draws on and is inspired by some of the MATLAB Lab Manual for the text -- Dynamic Models in Biology, by Ellner and Guckenheimer -- into Python.  That Lab Manual is available (in MATLAB and R) here.  Credits for this are:  *These notes for computer labs accompany our textbook {Dynamic Models in Biology} (Princeton University\n",
    "Press 2006). They are based in part on course materials \n",
    "by former TAs Colleen Webb, Jonathan Rowell and Daniel Fink at Cornell, \n",
    "Professors Lou Gross (University of Tennessee) and Paul Fackler (NC State University), and \n",
    "on the book \\textit{Getting Started with Matlab} by Rudra Pratap (Oxford University Press).* \n",
    "\n",
    "* Finally, here is a highly recommended and freely available handbook which covers much of the material here, including numpy, scipy, plotting, and more!  https://jakevdp.github.io/PythonDataScienceHandbook/\n"
   ]
  },
  {
   "cell_type": "markdown",
   "metadata": {},
   "source": [
    "### Jupyter Notebooks"
   ]
  },
  {
   "cell_type": "markdown",
   "metadata": {},
   "source": [
    "\n",
    "####  First of all, you are in a Jupyter notebook.  Make sure this is running the Python 3 kernel -- you can change kernels via menu bar above, and are often prompted to select kernel when opening notebook (eg in JupyterLab).\n",
    "\n",
    "You will find many good tutorials concerning these notebooks, and I won't try to replicate all of that material here -- please seek these out for more if you are interested, as they are wonderfully powerful and flexible.  But running from Anaconda, most of what you need to know is below:\n",
    "\n",
    "The notebook consists of cells like this one, which can be either \"text\" which is written using Markdown -- see https://wordpress.com/support/markdown-quick-reference/ and for \n",
    "setting math https://www.math.ubc.ca/~pwalls/math-python/jupyter/latex/ -- or Code.\n",
    "\n",
    "To make a new cell, you can go to the menus above and click new cell.  Then, hit m to make that a markdown cell, containing text like this, or y to make a code cell, containing executable commands.  There are also toolbar options for these (see the pulldown menu right above),  and just mouse clicking in or next to cells has quite intuitive effects. \n",
    "\n",
    "\n",
    "**Once you have what you want in a cell, hit shift-enter.**  That will either format the markdown text, or run the code in the cell.  The number in square brackets, which keeps updating as you shift-enter cells in whatever order you please, is the execution order of the cells.\n",
    "For running code in cells, make sure you do that in the right order.  Finally, the Kernel menu is where to go to make sure you are running Python 3, and to stop and restart the running of cells.  It also includes a run all option that will do just that, starting at the top of the document.  \n",
    "\n",
    "Here are some general tips on Python, many via Don McMillen (as credited above):\n",
    "\n",
    "* Upper and lower case characters are not equivalent (Python/Numpy are case sensitive). \n",
    "* Typing the name of a variable in a code cell then hitting shift-enter will return its value. \n",
    "* Python/Numpy uses parentheses, ( ), square brackets, [ ], and curly braces, { }, and these are not interchangeable. \n",
    "* You can type help(topic) to access help on the command, function, or object topic.\n",
    "* If you press the tab key after partially typing a function or variable name, IPython will attempt to complete it, offering you a selection of choices if there is more than one possible completion. \n",
    "* Keyboard shortcuts in ipython notebook are awesome.  From a cell, hit command m to toggle to command mode.  Then, you can hit a to make a cell above or b below. To toggle to edit mode (where you can type into the cell), hit enter. Play around a bit and dig it -- it's an wonderful interface.  More keyboard shortcuts:  https://johnlaudun.org/20131228-ipython-notebook-keyboard-shortcuts/\n",
    "\n",
    "\n",
    "\n",
    "\n"
   ]
  },
  {
   "cell_type": "markdown",
   "metadata": {},
   "source": [
    "#### OK, let's get cooking!\n",
    "\n",
    "Python has substantial built-in functionality, but for scientific computing we'll always import additional packages (or modules), and give their contents a prefix name (that's the \"as\").   "
   ]
  },
  {
   "cell_type": "code",
   "execution_count": 2,
   "metadata": {},
   "outputs": [],
   "source": [
    "import matplotlib.pylab as plt   # That gives plotting, and the next line makes plots appear inline in notebook\n",
    "%matplotlib inline  \n",
    "import numpy as np  # That gives numerical arrays and tools for manipulating them"
   ]
  },
  {
   "cell_type": "markdown",
   "metadata": {},
   "source": [
    "You can simply type an operation into a cell, and hit shift-enter to execute it"
   ]
  },
  {
   "cell_type": "code",
   "execution_count": 67,
   "metadata": {},
   "outputs": [
    {
     "data": {
      "text/plain": [
       "5"
      ]
     },
     "execution_count": 67,
     "metadata": {},
     "output_type": "execute_result"
    }
   ],
   "source": [
    "2+3"
   ]
  },
  {
   "cell_type": "markdown",
   "metadata": {},
   "source": [
    "The basic arithmetic operations are `+ - * / `  \n",
    "**MATLAB GOTCHA:** To take a number to a power use ` ** ` not ` ^ `"
   ]
  },
  {
   "cell_type": "code",
   "execution_count": 68,
   "metadata": {},
   "outputs": [
    {
     "data": {
      "text/plain": [
       "1"
      ]
     },
     "execution_count": 68,
     "metadata": {},
     "output_type": "execute_result"
    }
   ],
   "source": [
    "2^3   #DO NOT DO THIS IF YOU WANT A POWER (INSTEAD IS A LOGICAL OPERATION IN PYTHON)"
   ]
  },
  {
   "cell_type": "code",
   "execution_count": 69,
   "metadata": {
    "jupyter": {
     "outputs_hidden": true
    }
   },
   "outputs": [
    {
     "data": {
      "text/plain": [
       "8"
      ]
     },
     "execution_count": 69,
     "metadata": {},
     "output_type": "execute_result"
    }
   ],
   "source": [
    "2**3  #aaaah .... that gives the power"
   ]
  },
  {
   "cell_type": "markdown",
   "metadata": {},
   "source": [
    "Define some variables that are scalars.  \n",
    "\n",
    "* Note that variable names can combine letters and numbers and the symbol _, and may not begin with a number.    \n",
    "\n",
    "Here we use multiple lines in a cell.  The last line causes the variable's value to be displayed."
   ]
  },
  {
   "cell_type": "code",
   "execution_count": 70,
   "metadata": {
    "jupyter": {
     "outputs_hidden": true
    }
   },
   "outputs": [
    {
     "data": {
      "text/plain": [
       "8"
      ]
     },
     "execution_count": 70,
     "metadata": {},
     "output_type": "execute_result"
    }
   ],
   "source": [
    "a_1=2\n",
    "a_2=3\n",
    "a_3=a_1**a_2\n",
    "a_3"
   ]
  },
  {
   "cell_type": "markdown",
   "metadata": {},
   "source": [
    "#### Arrays\n",
    "Define a variable that is a numpy array.  \n",
    "These are rectangular tables of numbers that we will operate on.\n",
    "A 1-dimensional array is a list of numbers (like a vector).  A 2-dimensional array is a table, and so on.\n",
    "This example sets up a 3 element 1-dimensional array, which is also called a vector. \n"
   ]
  },
  {
   "cell_type": "code",
   "execution_count": 71,
   "metadata": {
    "jupyter": {
     "outputs_hidden": true
    }
   },
   "outputs": [
    {
     "name": "stdout",
     "output_type": "stream",
     "text": [
      "[1 2 3]\n"
     ]
    }
   ],
   "source": [
    "c = np.array([1, 2, 3])\n",
    "print(c)   # we could also just type c here, but this gives a more readable output format"
   ]
  },
  {
   "cell_type": "markdown",
   "metadata": {},
   "source": [
    "The basic arithmetic operations are applied elementwise to the array"
   ]
  },
  {
   "cell_type": "code",
   "execution_count": 72,
   "metadata": {
    "jupyter": {
     "outputs_hidden": true
    }
   },
   "outputs": [
    {
     "data": {
      "text/plain": [
       "array([2, 3, 4])"
      ]
     },
     "execution_count": 72,
     "metadata": {},
     "output_type": "execute_result"
    }
   ],
   "source": [
    "c+1"
   ]
  },
  {
   "cell_type": "code",
   "execution_count": 73,
   "metadata": {
    "jupyter": {
     "outputs_hidden": true
    }
   },
   "outputs": [
    {
     "data": {
      "text/plain": [
       "array([0.5, 1. , 1.5])"
      ]
     },
     "execution_count": 73,
     "metadata": {},
     "output_type": "execute_result"
    }
   ],
   "source": [
    "c/2"
   ]
  },
  {
   "cell_type": "code",
   "execution_count": 74,
   "metadata": {
    "jupyter": {
     "outputs_hidden": true
    }
   },
   "outputs": [
    {
     "data": {
      "text/plain": [
       "array([1, 4, 9], dtype=int32)"
      ]
     },
     "execution_count": 74,
     "metadata": {},
     "output_type": "execute_result"
    }
   ],
   "source": [
    "c**2"
   ]
  },
  {
   "cell_type": "code",
   "execution_count": 75,
   "metadata": {
    "jupyter": {
     "outputs_hidden": true
    }
   },
   "outputs": [
    {
     "data": {
      "text/plain": [
       "array([2, 4, 8], dtype=int32)"
      ]
     },
     "execution_count": 75,
     "metadata": {},
     "output_type": "execute_result"
    }
   ],
   "source": [
    "2**c   #applies an array of powers to a scalar"
   ]
  },
  {
   "cell_type": "markdown",
   "metadata": {},
   "source": [
    "Numpy has many mathematical functions that operate on arrays element wise when given an array argument. For example,"
   ]
  },
  {
   "cell_type": "code",
   "execution_count": 76,
   "metadata": {
    "jupyter": {
     "outputs_hidden": true
    }
   },
   "outputs": [
    {
     "data": {
      "text/plain": [
       "array([ 2.718,  7.389, 20.086])"
      ]
     },
     "execution_count": 76,
     "metadata": {},
     "output_type": "execute_result"
    }
   ],
   "source": [
    "np.exp(c)"
   ]
  },
  {
   "cell_type": "code",
   "execution_count": 77,
   "metadata": {
    "jupyter": {
     "outputs_hidden": true
    }
   },
   "outputs": [
    {
     "data": {
      "text/plain": [
       "array([1., 2., 3.])"
      ]
     },
     "execution_count": 77,
     "metadata": {},
     "output_type": "execute_result"
    }
   ],
   "source": [
    "np.log( np.exp(c))     "
   ]
  },
  {
   "cell_type": "code",
   "execution_count": 78,
   "metadata": {
    "jupyter": {
     "outputs_hidden": true
    }
   },
   "outputs": [
    {
     "data": {
      "text/plain": [
       "array([1.   , 1.414, 1.732])"
      ]
     },
     "execution_count": 78,
     "metadata": {},
     "output_type": "execute_result"
    }
   ],
   "source": [
    "np.sqrt(c)"
   ]
  },
  {
   "cell_type": "markdown",
   "metadata": {},
   "source": [
    "We can also do element-wise operations on pairs of arrays."
   ]
  },
  {
   "cell_type": "code",
   "execution_count": 79,
   "metadata": {
    "jupyter": {
     "outputs_hidden": true
    }
   },
   "outputs": [
    {
     "name": "stdout",
     "output_type": "stream",
     "text": [
      "[5 7 9]\n",
      "[0.25 0.4  0.5 ]\n"
     ]
    }
   ],
   "source": [
    "c=np.array([1,2,3])\n",
    "d=np.array([4,5,6])\n",
    "print(c+d)\n",
    "print(c/d)"
   ]
  },
  {
   "cell_type": "markdown",
   "metadata": {},
   "source": [
    "### MATLAB GOTCHA:  \n",
    "`*` gives element-wise multiplication.  This is **NOT** a 'basic' linear algebra vector/matrix operation, like an innner (dot) or outer product (that said it does have a name, the Hadamard product)."
   ]
  },
  {
   "cell_type": "code",
   "execution_count": 80,
   "metadata": {
    "jupyter": {
     "outputs_hidden": true
    }
   },
   "outputs": [
    {
     "name": "stdout",
     "output_type": "stream",
     "text": [
      "[ 4 10 18]\n"
     ]
    }
   ],
   "source": [
    "print(c*d)"
   ]
  },
  {
   "cell_type": "markdown",
   "metadata": {},
   "source": [
    "To do a dot product, use `np.dot`"
   ]
  },
  {
   "cell_type": "code",
   "execution_count": 81,
   "metadata": {
    "jupyter": {
     "outputs_hidden": true
    }
   },
   "outputs": [
    {
     "data": {
      "text/plain": [
       "32"
      ]
     },
     "execution_count": 81,
     "metadata": {},
     "output_type": "execute_result"
    }
   ],
   "source": [
    "np.dot(c,d)"
   ]
  },
  {
   "cell_type": "markdown",
   "metadata": {},
   "source": [
    "On to two-dimensional arrays, or matrices.  We enter these as a list of 'row' lists.  I'm going to use `_mat` in my filename to remind us that this is a matrix; this is, of course, just naming and has no other effect."
   ]
  },
  {
   "cell_type": "code",
   "execution_count": 82,
   "metadata": {
    "jupyter": {
     "outputs_hidden": true
    }
   },
   "outputs": [
    {
     "name": "stdout",
     "output_type": "stream",
     "text": [
      "[[1 1 1]\n",
      " [2 2 2]]\n"
     ]
    }
   ],
   "source": [
    "f_mat= np.array([[1, 1 ,1], [2, 2 , 2]])\n",
    "print(f_mat)\n"
   ]
  },
  {
   "cell_type": "markdown",
   "metadata": {},
   "source": [
    "Check the shape of our array:"
   ]
  },
  {
   "cell_type": "code",
   "execution_count": 83,
   "metadata": {
    "jupyter": {
     "outputs_hidden": true
    }
   },
   "outputs": [
    {
     "data": {
      "text/plain": [
       "(2, 3)"
      ]
     },
     "execution_count": 83,
     "metadata": {},
     "output_type": "execute_result"
    }
   ],
   "source": [
    "np.shape(f_mat)"
   ]
  },
  {
   "cell_type": "markdown",
   "metadata": {},
   "source": [
    "Now we can do a matrix-vector product.  First, define a vector"
   ]
  },
  {
   "cell_type": "code",
   "execution_count": 84,
   "metadata": {
    "jupyter": {
     "outputs_hidden": true
    }
   },
   "outputs": [
    {
     "name": "stdout",
     "output_type": "stream",
     "text": [
      "[1 2 3]\n"
     ]
    }
   ],
   "source": [
    "c_vect=np.array([1,2,3])\n",
    "print(c_vect)"
   ]
  },
  {
   "cell_type": "markdown",
   "metadata": {},
   "source": [
    "Now use **np.dot** to do a matrix-vector product"
   ]
  },
  {
   "cell_type": "code",
   "execution_count": 85,
   "metadata": {
    "jupyter": {
     "outputs_hidden": true
    }
   },
   "outputs": [
    {
     "name": "stdout",
     "output_type": "stream",
     "text": [
      "(2, 3)\n",
      "(3,)\n",
      "[ 6 12]\n"
     ]
    }
   ],
   "source": [
    "d_vect=np.dot(f_mat,c_vect)\n",
    "print(np.shape(f_mat))\n",
    "print(np.shape(c_vect))\n",
    "print(d_vect)"
   ]
  },
  {
   "cell_type": "markdown",
   "metadata": {},
   "source": [
    "There is another, simpler notation for matrix-matrix or matrix-vector products as well:  the `@` symbol"
   ]
  },
  {
   "cell_type": "code",
   "execution_count": 86,
   "metadata": {
    "jupyter": {
     "outputs_hidden": true
    }
   },
   "outputs": [
    {
     "data": {
      "text/plain": [
       "array([ 6, 12])"
      ]
     },
     "execution_count": 86,
     "metadata": {},
     "output_type": "execute_result"
    }
   ],
   "source": [
    "f_mat @ c_vect"
   ]
  },
  {
   "cell_type": "markdown",
   "metadata": {},
   "source": [
    "You have to get the alignment correct, so that matrix multiplication makes sense.  This does and should return an error:"
   ]
  },
  {
   "cell_type": "code",
   "execution_count": 87,
   "metadata": {
    "jupyter": {
     "outputs_hidden": true
    }
   },
   "outputs": [
    {
     "name": "stdout",
     "output_type": "stream",
     "text": [
      "(3,)\n",
      "(2, 3)\n"
     ]
    },
    {
     "ename": "ValueError",
     "evalue": "shapes (3,) and (2,3) not aligned: 3 (dim 0) != 2 (dim 0)",
     "output_type": "error",
     "traceback": [
      "\u001b[1;31m---------------------------------------------------------------------------\u001b[0m",
      "\u001b[1;31mValueError\u001b[0m                                Traceback (most recent call last)",
      "\u001b[1;32m~\\AppData\\Local\\Temp/ipykernel_8464/3289096330.py\u001b[0m in \u001b[0;36m<module>\u001b[1;34m\u001b[0m\n\u001b[0;32m      1\u001b[0m \u001b[0mprint\u001b[0m\u001b[1;33m(\u001b[0m\u001b[0mnp\u001b[0m\u001b[1;33m.\u001b[0m\u001b[0mshape\u001b[0m\u001b[1;33m(\u001b[0m\u001b[0mc_vect\u001b[0m\u001b[1;33m)\u001b[0m\u001b[1;33m)\u001b[0m\u001b[1;33m\u001b[0m\u001b[1;33m\u001b[0m\u001b[0m\n\u001b[0;32m      2\u001b[0m \u001b[0mprint\u001b[0m\u001b[1;33m(\u001b[0m\u001b[0mnp\u001b[0m\u001b[1;33m.\u001b[0m\u001b[0mshape\u001b[0m\u001b[1;33m(\u001b[0m\u001b[0mf_mat\u001b[0m\u001b[1;33m)\u001b[0m\u001b[1;33m)\u001b[0m\u001b[1;33m\u001b[0m\u001b[1;33m\u001b[0m\u001b[0m\n\u001b[1;32m----> 3\u001b[1;33m \u001b[0mnp\u001b[0m\u001b[1;33m.\u001b[0m\u001b[0mdot\u001b[0m\u001b[1;33m(\u001b[0m\u001b[0mc_vect\u001b[0m\u001b[1;33m,\u001b[0m\u001b[0mf_mat\u001b[0m\u001b[1;33m)\u001b[0m\u001b[1;33m\u001b[0m\u001b[1;33m\u001b[0m\u001b[0m\n\u001b[0m",
      "\u001b[1;32m<__array_function__ internals>\u001b[0m in \u001b[0;36mdot\u001b[1;34m(*args, **kwargs)\u001b[0m\n",
      "\u001b[1;31mValueError\u001b[0m: shapes (3,) and (2,3) not aligned: 3 (dim 0) != 2 (dim 0)"
     ]
    }
   ],
   "source": [
    "print(np.shape(c_vect))\n",
    "print(np.shape(f_mat))\n",
    "np.dot(c_vect,f_mat)"
   ]
  },
  {
   "cell_type": "markdown",
   "metadata": {},
   "source": [
    "But we can use **transpose**, and then do a valid matrix operation (left-multiply by row vector).  Note that the vector is interpreted as a row or a column vector depending on what makes sense for the dot operation"
   ]
  },
  {
   "cell_type": "code",
   "execution_count": null,
   "metadata": {
    "jupyter": {
     "outputs_hidden": true
    }
   },
   "outputs": [],
   "source": [
    "g_arr=np.transpose(f_mat)\n",
    "print(np.shape(c_vect))\n",
    "print(np.shape(g_arr))\n",
    "np.dot(c_vect,g_arr)"
   ]
  },
  {
   "cell_type": "markdown",
   "metadata": {},
   "source": [
    "For square 2-D arrays (equivalent to square matrices), we can perform matrix powers, using `np.linalg.matrix_power`"
   ]
  },
  {
   "cell_type": "code",
   "execution_count": null,
   "metadata": {
    "jupyter": {
     "outputs_hidden": true
    }
   },
   "outputs": [],
   "source": [
    "A_mat = np.array([[ 0,1], [1,0 ]])\n",
    "print(A_mat)\n",
    "\n",
    "B_mat = np.linalg.matrix_power(A_mat, 2)\n",
    "print(B_mat)\n",
    "\n",
    "C_mat = np.linalg.matrix_power(A_mat, 3)\n",
    "print(C_mat)"
   ]
  },
  {
   "cell_type": "markdown",
   "metadata": {},
   "source": [
    "An aside on objects and function calls"
   ]
  },
  {
   "cell_type": "markdown",
   "metadata": {},
   "source": [
    "Arrays (and all data types) are objects.  This means that they have functions attached them, that you can call using a dot after the variable name.  For example, see this handy shorhand for the shape function call above:"
   ]
  },
  {
   "cell_type": "code",
   "execution_count": null,
   "metadata": {
    "jupyter": {
     "outputs_hidden": true
    }
   },
   "outputs": [],
   "source": [
    "f_mat.shape"
   ]
  },
  {
   "cell_type": "markdown",
   "metadata": {},
   "source": [
    "<div style=\"border-left: 3px solid #000; padding: 1px; padding-left: 10px; background: #F0FAFF; \">\n",
    "<h3>Other mathematical functions</h3>\n",
    "\n",
    "<p>NumPy includes an extensive library of mathematical functions that operate on arrays. The full list can be found here: \n",
    " \n",
    " <a href=\"https://docs.scipy.org/doc/numpy/reference/routines.math.html\">Mathematical functions</a>\n",
    "</div>"
   ]
  },
  {
   "cell_type": "markdown",
   "metadata": {},
   "source": [
    "### Making and addressing Numpy arrays"
   ]
  },
  {
   "cell_type": "markdown",
   "metadata": {},
   "source": [
    "Address arrays via indices.  Python uses [] to index into arrays.  \n",
    "**Matlab Gotcha:  INDEXING STARTS AT 0.**"
   ]
  },
  {
   "cell_type": "code",
   "execution_count": null,
   "metadata": {
    "jupyter": {
     "outputs_hidden": true
    }
   },
   "outputs": [],
   "source": [
    "a_arr=np.array([1,2,3])\n",
    "print(a_arr[0])\n",
    "print(a_arr[1])\n",
    "a_arr[1]=-2\n",
    "print(a_arr)"
   ]
  },
  {
   "cell_type": "code",
   "execution_count": null,
   "metadata": {
    "jupyter": {
     "outputs_hidden": true
    }
   },
   "outputs": [],
   "source": [
    "b_mat=np.array([[1,2],[3,4]])\n",
    "print(b_mat[0,0])"
   ]
  },
  {
   "cell_type": "markdown",
   "metadata": {},
   "source": [
    "There are lots of ways to make arrays besides just typing them in.  Here are three of the most common:\n",
    "* np.arange(start,stop), where start and stop are two integers, makes list from start to stop-1\n",
    "* np.zeros(length), which makes an array of zeros of the given length\n",
    "* np.linspace(start,stop,num)  #linspace returns array of num values between start and stop\n",
    "\n"
   ]
  },
  {
   "cell_type": "code",
   "execution_count": null,
   "metadata": {
    "jupyter": {
     "outputs_hidden": true
    }
   },
   "outputs": [],
   "source": [
    "k_arr=np.arange(0,20)\n",
    "print(k_arr)\n",
    "h_arr=np.zeros(20)\n",
    "print(h_arr)\n",
    "print(h_arr.shape)\n",
    "x_array=np.linspace(0,2*np.pi,5) \n",
    "print(x_array)"
   ]
  },
  {
   "cell_type": "markdown",
   "metadata": {},
   "source": [
    "It is also helpful to adjust the formatting with which arrays are printed out.  This is done with the following command.  Here, `precision` is the number of digits after the decimal.  `suppress=True` will keep scientific notation from being used for small numbers (doesn't change formatting here, but will come up later in course.)  "
   ]
  },
  {
   "cell_type": "code",
   "execution_count": null,
   "metadata": {
    "jupyter": {
     "outputs_hidden": true
    }
   },
   "outputs": [],
   "source": [
    "np.set_printoptions(precision=3, suppress=True)\n",
    "print(x_array)"
   ]
  },
  {
   "cell_type": "markdown",
   "metadata": {},
   "source": [
    "Slicing is a way to access sub-regions of arrays.  The key is the colon, in syntax k_arr=[min_index:max_index].  This returns the values between min_index and **max_index-1.**   That ''missing'' top index confuses me at least often and is another **MATLAB GOTCHA.** "
   ]
  },
  {
   "cell_type": "code",
   "execution_count": null,
   "metadata": {
    "jupyter": {
     "outputs_hidden": true
    }
   },
   "outputs": [],
   "source": [
    "print(k_arr[0:1])  #Note the \"missing\" top index in what is sliced out\n",
    "print(k_arr[0:4])  #Likewise"
   ]
  },
  {
   "cell_type": "code",
   "execution_count": null,
   "metadata": {
    "jupyter": {
     "outputs_hidden": true
    }
   },
   "outputs": [],
   "source": [
    "# Slice from the beginning until the 7th element\n",
    "print(k_arr[:7])"
   ]
  },
  {
   "cell_type": "code",
   "execution_count": null,
   "metadata": {
    "jupyter": {
     "outputs_hidden": true
    }
   },
   "outputs": [],
   "source": [
    "# Slice from the 11th element until the end\n",
    "print(k_arr[11:])"
   ]
  },
  {
   "cell_type": "code",
   "execution_count": null,
   "metadata": {
    "jupyter": {
     "outputs_hidden": true
    }
   },
   "outputs": [],
   "source": [
    "# Return the LAST element of an array\n",
    "print(k_arr[-1])"
   ]
  },
  {
   "cell_type": "markdown",
   "metadata": {},
   "source": [
    "**Sorting elements in an array**"
   ]
  },
  {
   "cell_type": "code",
   "execution_count": null,
   "metadata": {
    "jupyter": {
     "outputs_hidden": true
    }
   },
   "outputs": [],
   "source": [
    "z_arr=np.array([3,2,4,1])\n",
    "print('z_arr=',z_arr)"
   ]
  },
  {
   "cell_type": "markdown",
   "metadata": {},
   "source": [
    "Using `np.argsort' returns the **indices** of the lowest to highest values, in order (**not** the order of each value)"
   ]
  },
  {
   "cell_type": "code",
   "execution_count": null,
   "metadata": {
    "jupyter": {
     "outputs_hidden": true
    }
   },
   "outputs": [],
   "source": [
    "idx=np.argsort(z_arr)\n",
    "print('idx=',idx)"
   ]
  },
  {
   "cell_type": "code",
   "execution_count": null,
   "metadata": {
    "jupyter": {
     "outputs_hidden": true
    }
   },
   "outputs": [],
   "source": [
    "print(z_arr[idx])  #To re-arrange according to this order"
   ]
  },
  {
   "cell_type": "markdown",
   "metadata": {},
   "source": [
    "#### Two-D arrays\n",
    "Similar syntax for two-D arrays.  Here we extract part of the first column:"
   ]
  },
  {
   "cell_type": "code",
   "execution_count": null,
   "metadata": {
    "jupyter": {
     "outputs_hidden": true
    }
   },
   "outputs": [],
   "source": [
    "g_mat=np.array([[1,2],[3,4],[5,6]])\n",
    "print(g_mat)\n",
    "print(g_mat[0:2,0])"
   ]
  },
  {
   "cell_type": "markdown",
   "metadata": {},
   "source": [
    "<div style=\"background: #DFF0D8; border-radius: 3px; padding: 10px;\">\n",
    "<p><b>Exercise T1 (From the Allen tutorials):</b>\n",
    "\n",
    "Use <code>np.array</code> to create a 3-dimensional array with the shape (2, 4, 3).  Also, explore how the colon operation works here -- write a sentence on what you find.\n",
    "\n",
    "</div>"
   ]
  },
  {
   "cell_type": "markdown",
   "metadata": {},
   "source": [
    "### Data types"
   ]
  },
  {
   "cell_type": "markdown",
   "metadata": {},
   "source": [
    "<div style=\"border-left: 3px solid #000; padding: 1px; padding-left: 10px; background: #F0FAFF; \">\n",
    "<p>All elements in arrays are of the same data type. \n",
    "\n",
    "<p>There are many other options we can pick from. Whether we <b>care</b> enough to worry about dtype depends on what we want to do with the array, and whether we are likely to run out of memory. Some of the most commonly used dtypes are listed here:\n",
    "\n",
    "<table style=\"margin-left: 50px\">\n",
    "<tr><td> dtype  </td><td> bytes     </td><td> precision  </td><td> approx. range       </td></tr>\n",
    "<tr><td>float64 </td><td> 8         </td><td> 16         </td><td> ±10<sup>308</sup>   </td></tr>\n",
    "<tr><td>float32 </td><td> 4         </td><td> 7          </td><td> ±10<sup>38</sup>    </td></tr>\n",
    "<tr><td>int64   </td><td> 8         </td><td> 0          </td><td> ±10<sup>18</sup>    </td></tr>\n",
    "<tr><td>int32   </td><td> 4         </td><td> 0          </td><td> ±10<sup>9</sup>     </td></tr>\n",
    "<tr><td>int16   </td><td> 2         </td><td> 0          </td><td> ±10<sup>4</sup>     </td></tr>\n",
    "<tr><td>uint64  </td><td> 8         </td><td> 0          </td><td> 0 to 10<sup>19</sup></td></tr>\n",
    "<tr><td>uint32  </td><td> 4         </td><td> 0          </td><td> 0 to 10<sup>9</sup> </td></tr>\n",
    "<tr><td>uint16  </td><td> 2         </td><td> 0          </td><td> 0 to 10<sup>4</sup> </td></tr>\n",
    "<tr><td>uint8   </td><td> 1         </td><td> 0          </td><td> 0-255               </td></tr>\n",
    "<tr><td>bool    </td><td> 1         </td><td> 0          </td><td> 0-1                 </td></tr>\n",
    "</table>\n",
    "\n",
    "<br>\n",
    "\n",
    "<a href=\"https://docs.scipy.org/doc/numpy/user/basics.types.html\">Data types</a>\n",
    "\n",
    "<a href=\"https://docs.scipy.org/doc/numpy/reference/generated/numpy.ndarray.html\">numpy.ndarray</a>\n",
    "\n",
    "\n",
    "----------------------\n",
    "A standard choice for this, for numerical computing, is a 64-bit (8 byte) floating-point number, and you'll see that this gives your arrays the maximum possible range.  Many ways of creating an array give you this dtype.\n",
    "\n",
    "Some commands, like  <b>arange</b>, or making an array full of integers, make arrays of integer type by default, so especially if you are running into overflow problems, it's a good idea to check this type.  \n",
    "\n",
    "To check datatype, use <b>.dtype</b> (see below).\n",
    "    \n",
    "To convert an array to a different dtype, you can use the <b>astype()</b> method.  \n",
    "    \n",
    "<b>But perhaps the easiest -- and what we do below -- is to specify your datatype when making an array. (see below, and note syntax np.float64) </b> \n",
    "    \n",
    "<div> <!-- NOTE: this div is a workaround for a jupyter HTML export bug --> </div>\n",
    "</div>"
   ]
  },
  {
   "cell_type": "markdown",
   "metadata": {},
   "source": [
    "Here we make an array of integers, and see that it is of integer type"
   ]
  },
  {
   "cell_type": "code",
   "execution_count": null,
   "metadata": {
    "jupyter": {
     "outputs_hidden": true
    }
   },
   "outputs": [],
   "source": [
    "a_arr=np.array([0,1,2])\n",
    "print(a_arr.dtype)"
   ]
  },
  {
   "cell_type": "markdown",
   "metadata": {},
   "source": [
    "Nicely, it gets coverted automatically if we operate on it to make non-itegers"
   ]
  },
  {
   "cell_type": "code",
   "execution_count": null,
   "metadata": {
    "jupyter": {
     "outputs_hidden": true
    }
   },
   "outputs": [],
   "source": [
    "b_arr=a_arr/2\n",
    "print(b_arr.dtype)"
   ]
  },
  {
   "cell_type": "markdown",
   "metadata": {},
   "source": [
    "Or, we could have made it a float array in the first place"
   ]
  },
  {
   "cell_type": "code",
   "execution_count": null,
   "metadata": {
    "jupyter": {
     "outputs_hidden": true
    }
   },
   "outputs": [],
   "source": [
    "a_arr=np.array([0,1,2],dtype=np.float64)\n",
    "print(a_arr.dtype)"
   ]
  },
  {
   "cell_type": "markdown",
   "metadata": {},
   "source": [
    "Similar situation with using `arange`"
   ]
  },
  {
   "cell_type": "code",
   "execution_count": null,
   "metadata": {
    "jupyter": {
     "outputs_hidden": true
    }
   },
   "outputs": [],
   "source": [
    "a_arr=np.arange(1,5)\n",
    "a_arr.dtype"
   ]
  },
  {
   "cell_type": "code",
   "execution_count": null,
   "metadata": {
    "jupyter": {
     "outputs_hidden": true
    }
   },
   "outputs": [],
   "source": [
    "b_arr=np.arange(1,5,dtype=np.float64)\n",
    "b_arr.dtype"
   ]
  },
  {
   "cell_type": "markdown",
   "metadata": {},
   "source": [
    "### For loops"
   ]
  },
  {
   "cell_type": "markdown",
   "metadata": {},
   "source": [
    "First, we need to define what we'll be looping over, the iterator.  \n",
    "Here, this is the numpy array iter_arr, which counts which generation we are on.  Much more general lists can be used, too."
   ]
  },
  {
   "cell_type": "code",
   "execution_count": 3,
   "metadata": {
    "jupyter": {
     "outputs_hidden": true
    }
   },
   "outputs": [
    {
     "name": "stdout",
     "output_type": "stream",
     "text": [
      "[1 2 3 4]\n"
     ]
    }
   ],
   "source": [
    "iter_arr=np.arange(1,5)\n",
    "print(iter_arr)"
   ]
  },
  {
   "cell_type": "markdown",
   "metadata": {},
   "source": [
    "Next, we write the loop.  This assigns each element of the iterator to a variable (here, `i`) in turn, and runs the block of indented code each time."
   ]
  },
  {
   "cell_type": "code",
   "execution_count": 4,
   "metadata": {
    "jupyter": {
     "outputs_hidden": true
    }
   },
   "outputs": [
    {
     "name": "stdout",
     "output_type": "stream",
     "text": [
      "1\n",
      "2\n",
      "3\n",
      "4\n"
     ]
    }
   ],
   "source": [
    "for i in iter_arr:\n",
    "    print(i)"
   ]
  },
  {
   "cell_type": "markdown",
   "metadata": {},
   "source": [
    "### Note the indentation!  This is something special to Python, and takes the place of typical `end` statements to demarcate code blocks.  \n",
    "We'll see this again in function definitions below.  The key thing to remember is to use the tab key to indent, and that all code at a given level of indentation is blocked together.  An example:"
   ]
  },
  {
   "cell_type": "code",
   "execution_count": 5,
   "metadata": {
    "jupyter": {
     "outputs_hidden": true
    }
   },
   "outputs": [
    {
     "name": "stdout",
     "output_type": "stream",
     "text": [
      "1\n",
      "1\n",
      "on to the next iteration\n",
      "2\n",
      "4\n",
      "on to the next iteration\n",
      "3\n",
      "9\n",
      "on to the next iteration\n",
      "4\n",
      "16\n",
      "on to the next iteration\n",
      "done with for loop\n"
     ]
    }
   ],
   "source": [
    "for i in iter_arr:\n",
    "    print(i)\n",
    "    print(i**2)\n",
    "    print(\"on to the next iteration\")\n",
    "    \n",
    "print(\"done with for loop\")"
   ]
  },
  {
   "cell_type": "markdown",
   "metadata": {},
   "source": [
    "<div style=\"background: #DFF0D8; border-radius: 3px; padding: 10px;\">\n",
    "<p><b>Exercise T2 (From the Allen tutorials):</b>\n",
    "\n",
    "<p>Create a 1-d numpy array (call it <code>ts</code> for timestamps), with increasing integers from 3 to 300 (including 3 but not 300) with increment of 3, and print the array\n",
    "\n",
    "</div>"
   ]
  },
  {
   "cell_type": "markdown",
   "metadata": {},
   "source": [
    "<div style=\"background: #DFF0D8; border-radius: 3px; padding: 10px;\">\n",
    "<p><b>Exercise (From the Allen tutorials):</b>\n",
    "\n",
    "<p>Create a 1-d numpy array of the first 10,000,000 integers, and call it x. Compute x+x^2+x^3 two ways 1) By using \"vectorized computations\" on a single line, and once by using a for loop.  Bonus:  Find (web search) commands to time an operation.  Which takes longer? \n",
    "\n",
    "</div>"
   ]
  },
  {
   "cell_type": "code",
   "execution_count": null,
   "metadata": {
    "jupyter": {
     "outputs_hidden": true
    }
   },
   "outputs": [],
   "source": [
    "x=np.arange(100000001)\n",
    "x.dtype"
   ]
  },
  {
   "cell_type": "markdown",
   "metadata": {},
   "source": [
    "This gives the wrong answer -- as overflowing the max integer size"
   ]
  },
  {
   "cell_type": "code",
   "execution_count": null,
   "metadata": {
    "jupyter": {
     "outputs_hidden": true
    }
   },
   "outputs": [],
   "source": [
    "bigx1=x+x**2+x**3\n",
    "print(bigx1[-1])\n",
    "bigx1.dtype"
   ]
  },
  {
   "cell_type": "markdown",
   "metadata": {},
   "source": [
    "We get the right answer by making the data type have the required huge range"
   ]
  },
  {
   "cell_type": "code",
   "execution_count": null,
   "metadata": {
    "jupyter": {
     "outputs_hidden": true
    }
   },
   "outputs": [],
   "source": [
    "x=np.arange(100000001,dtype=np.float64)"
   ]
  },
  {
   "cell_type": "code",
   "execution_count": null,
   "metadata": {
    "jupyter": {
     "outputs_hidden": true
    }
   },
   "outputs": [],
   "source": [
    "bigx1=x+x**2+x**3\n",
    "print(bigx1[-1])"
   ]
  },
  {
   "cell_type": "markdown",
   "metadata": {},
   "source": [
    "Within the for loop, we can use an integer for the iteration, but need to make sure that the array with huge entries has enough range (float64)."
   ]
  },
  {
   "cell_type": "code",
   "execution_count": null,
   "metadata": {
    "jupyter": {
     "outputs_hidden": true
    }
   },
   "outputs": [],
   "source": [
    "iter=np.arange(100000001)\n",
    "bigx2=np.zeros(100000001,dtype=np.float64)\n",
    "\n",
    "for i in iter:\n",
    "        bigx2[i]=x[i]+x[i]**2+x[i]**3\n",
    "        \n",
    "print(bigx2[-1])       "
   ]
  },
  {
   "cell_type": "markdown",
   "metadata": {},
   "source": [
    "## Defining functions\n",
    "Above we used a number of built-in functions, or functions from the numpy package, such as `shape.`.\n",
    "Here we'll define our own functions.  The syntax begins with `def` and once again follows with indented text:"
   ]
  },
  {
   "cell_type": "code",
   "execution_count": null,
   "metadata": {
    "jupyter": {
     "outputs_hidden": true
    }
   },
   "outputs": [],
   "source": [
    "# Define a function called \"my_power_func\" that requires 2 arguments (inputs)\n",
    "# called \"x\" and \"y\" and returns x**y\n",
    "\n",
    "def my_power_func(x, y):   \n",
    "    \"\"\"Take x to power y and return value\"\"\"\n",
    "    # Use indented code block again\n",
    "    z = x**y\n",
    "    return z\n",
    "\n",
    "# Run the function here, with scalar arguments\n",
    "print(my_power_func(2, 3))\n",
    "\n",
    "# It also works with numpy array arguments\n",
    "print(my_power_func(np.array([1,2]),3  ))"
   ]
  },
  {
   "cell_type": "markdown",
   "metadata": {},
   "source": [
    "The thing in triple quotes above is the docstring -- documentation for a function.  It can be retreived via help, as follows. That's cool!  A step on your way to making general, useful, re-usable code for yourself and for others! "
   ]
  },
  {
   "cell_type": "code",
   "execution_count": null,
   "metadata": {
    "jupyter": {
     "outputs_hidden": true
    }
   },
   "outputs": [],
   "source": [
    "help(my_power_func)"
   ]
  },
  {
   "cell_type": "markdown",
   "metadata": {},
   "source": [
    "**Variable scope.**  Most variables we've defined so far are accessible throughout the notebook; that is, they have  \"global scope.\"  Variables newly defined inside a function have \"local scope\" meaning they are only defined within the function.  For example:"
   ]
  },
  {
   "cell_type": "code",
   "execution_count": null,
   "metadata": {
    "jupyter": {
     "outputs_hidden": true
    }
   },
   "outputs": [],
   "source": [
    "def add_special_number_func(x):\n",
    "    \"\"\" add a hard coded value for some reason \"\"\"\n",
    "    value_to_add=5\n",
    "    return x+value_to_add\n",
    "\n",
    "print(add_special_number_func(1))"
   ]
  },
  {
   "cell_type": "markdown",
   "metadata": {},
   "source": [
    "This returns an error:"
   ]
  },
  {
   "cell_type": "code",
   "execution_count": null,
   "metadata": {
    "jupyter": {
     "outputs_hidden": true
    }
   },
   "outputs": [],
   "source": [
    "print(value_to_add)"
   ]
  },
  {
   "cell_type": "markdown",
   "metadata": {},
   "source": [
    "### Plot!\n",
    "\n",
    "* matplotlib is a plotting library for python, imported above.\n",
    "\n",
    "* See many examples, with code, at http://matplotlib.org/gallery\n",
    "\n",
    "* Here we will show the most basic syntax only -- do head to the gallery for much much more, from different types of plots to basics like adding legends, etc"
   ]
  },
  {
   "cell_type": "code",
   "execution_count": null,
   "metadata": {
    "jupyter": {
     "outputs_hidden": true
    }
   },
   "outputs": [],
   "source": [
    "x_array=np.linspace(0,2*np.pi,50)  #linspace returns array of 50 values between 0 and 2 pi\n",
    "y_array=np.sin(x_array)\n",
    "\n",
    "plt.plot(x_array,y_array)\n",
    "plt.xlabel('x')\n",
    "plt.ylabel('y')\n",
    "plt.title('sin(x)')"
   ]
  },
  {
   "cell_type": "markdown",
   "metadata": {},
   "source": [
    "<div style=\"background: #DFF0D8; border-radius: 3px; padding: 10px;\">\n",
    "<p><b>Exercise T3:</b>\n",
    "\n",
    "<p>Head to the gallery via the link above.  Look at the examples, and then -- Add another plot to the same graph above, this one a cosine.  Make it red.  Also, add a legend.\n",
    "\n",
    "</div>"
   ]
  },
  {
   "cell_type": "markdown",
   "metadata": {},
   "source": [
    "# Random numbers\n",
    "### Initializing a random number generator"
   ]
  },
  {
   "cell_type": "markdown",
   "metadata": {},
   "source": [
    "First we need to initialize a random number GENERATOR (rng).  We do this by calling `default_rng` from the submodule (I think of this as a sub-package, or subfolder of functions) `random` within numpy.  \n",
    "\n",
    "* Note that we pass no argument.  This will draw a \"high entropy\" (unpredictable) seed from the operating system.\n"
   ]
  },
  {
   "cell_type": "code",
   "execution_count": null,
   "metadata": {
    "jupyter": {
     "outputs_hidden": true
    }
   },
   "outputs": [],
   "source": [
    "rng = np.random.default_rng()"
   ]
  },
  {
   "cell_type": "markdown",
   "metadata": {},
   "source": [
    "Now we're ready to go!  Let's generate an 1-D array of uniformly distributed random variables in the range [0,1), of length 10.  We use syntax `rng.uniform(left_limit,right_limit,length)`"
   ]
  },
  {
   "cell_type": "code",
   "execution_count": null,
   "metadata": {
    "jupyter": {
     "outputs_hidden": true
    }
   },
   "outputs": [],
   "source": [
    "a = rng.uniform(0,1,10)\n",
    "print(a)"
   ]
  },
  {
   "cell_type": "markdown",
   "metadata": {},
   "source": [
    "Similar syntax for a 2-D array, or a higher-dimensional array as well!  We swap out the length with the size of the array, in round brackets (formally that is called a tuple in python).\n"
   ]
  },
  {
   "cell_type": "code",
   "execution_count": null,
   "metadata": {
    "jupyter": {
     "outputs_hidden": true
    }
   },
   "outputs": [],
   "source": [
    "a = rng.uniform(0,1,(3,3))\n",
    "print(a)"
   ]
  },
  {
   "cell_type": "markdown",
   "metadata": {},
   "source": [
    "We are creating numpy arrays, as before and as expected!  We can confirm that using:"
   ]
  },
  {
   "cell_type": "code",
   "execution_count": null,
   "metadata": {
    "jupyter": {
     "outputs_hidden": true
    }
   },
   "outputs": [],
   "source": [
    "type(a)"
   ]
  },
  {
   "cell_type": "markdown",
   "metadata": {},
   "source": [
    "Similar syntax for a gaussian (normal) distribution, with mean mu, standard deviation sigma:  `rng.normal(mu,sigma,size)`"
   ]
  },
  {
   "cell_type": "code",
   "execution_count": null,
   "metadata": {
    "jupyter": {
     "outputs_hidden": true
    }
   },
   "outputs": [],
   "source": [
    "a = rng.normal(0,1,(3,3))\n",
    "print(a)"
   ]
  },
  {
   "cell_type": "markdown",
   "metadata": {},
   "source": [
    "### A note on seeds  \n",
    "Let's do this process again"
   ]
  },
  {
   "cell_type": "code",
   "execution_count": null,
   "metadata": {
    "jupyter": {
     "outputs_hidden": true
    }
   },
   "outputs": [],
   "source": [
    "rng = np.random.default_rng()\n",
    "a = rng.uniform(0,1,5)\n",
    "print(a)"
   ]
  },
  {
   "cell_type": "markdown",
   "metadata": {},
   "source": [
    "And again, this time asking for two random arrays as well"
   ]
  },
  {
   "cell_type": "code",
   "execution_count": null,
   "metadata": {
    "jupyter": {
     "outputs_hidden": true
    }
   },
   "outputs": [],
   "source": [
    "rng = np.random.default_rng()\n",
    "a = rng.uniform(0,1,5)\n",
    "b = rng.uniform(0,1,5)\n",
    "print(a)\n",
    "print(b)"
   ]
  },
  {
   "cell_type": "markdown",
   "metadata": {},
   "source": [
    "Each time above get something different, as expected:  a new seed is drawn from the operating system when we make the rng, and then it keeps advancing as we call it.\n",
    "\n",
    "* But, what if we want to re-use a random sequence?  We specify the seed when making the rng, as an integer -- creating reproducible behavior.  Depending on your objectives, this can be good, or very bad!"
   ]
  },
  {
   "cell_type": "code",
   "execution_count": null,
   "metadata": {
    "jupyter": {
     "outputs_hidden": true
    }
   },
   "outputs": [],
   "source": [
    "rng = np.random.default_rng(124)\n",
    "a = rng.uniform(0,1,5)\n",
    "print(a)"
   ]
  },
  {
   "cell_type": "code",
   "execution_count": null,
   "metadata": {
    "jupyter": {
     "outputs_hidden": true
    }
   },
   "outputs": [],
   "source": [
    "rng = np.random.default_rng(124)\n",
    "a = rng.uniform(0,1,5)\n",
    "print(a)\n",
    "b = rng.uniform(0,1,5)\n",
    "print(b)"
   ]
  },
  {
   "cell_type": "markdown",
   "metadata": {},
   "source": [
    "There are tons more distributions that can be sampled using our rng.  Check out the documentation ... https://numpy.org/doc/stable/reference/random/generator.html"
   ]
  },
  {
   "cell_type": "markdown",
   "metadata": {},
   "source": [
    "### Initializing a random number generator"
   ]
  },
  {
   "cell_type": "markdown",
   "metadata": {},
   "source": [
    "First we need to initialize a random number GENERATOR (rng).  We do this by calling `default_rng` from the submodule (I think of this as a sub-package, or subfolder of functions) `random` within numpy.  \n",
    "\n",
    "* Note that we pass no argument.  This will draw a \"high entropy\" (unpredictable) seed from the operating system.\n"
   ]
  },
  {
   "cell_type": "code",
   "execution_count": null,
   "metadata": {
    "jupyter": {
     "outputs_hidden": true
    }
   },
   "outputs": [],
   "source": [
    "rng = np.random.default_rng()"
   ]
  },
  {
   "cell_type": "markdown",
   "metadata": {},
   "source": [
    "Now we're ready to go!  Let's generate an 1-D array of uniformly distributed random variables in the range [0,1), of length 10.  We use syntax `rng.uniform(left_limit,right_limit,length)`"
   ]
  },
  {
   "cell_type": "code",
   "execution_count": null,
   "metadata": {
    "jupyter": {
     "outputs_hidden": true
    }
   },
   "outputs": [],
   "source": [
    "a = rng.uniform(0,1,10)\n",
    "print(a)"
   ]
  },
  {
   "cell_type": "markdown",
   "metadata": {},
   "source": [
    "Similar syntax for a 2-D array, or a higher-dimensional array as well!  We swap out the length with the size of the array, in round brackets (formally that is called a tuple in python).\n"
   ]
  },
  {
   "cell_type": "code",
   "execution_count": null,
   "metadata": {
    "jupyter": {
     "outputs_hidden": true
    }
   },
   "outputs": [],
   "source": [
    "a = rng.uniform(0,1,(3,3))\n",
    "print(a)"
   ]
  },
  {
   "cell_type": "markdown",
   "metadata": {},
   "source": [
    "We are creating numpy arrays, as before and as expected!  We can confirm that using:"
   ]
  },
  {
   "cell_type": "code",
   "execution_count": null,
   "metadata": {
    "jupyter": {
     "outputs_hidden": true
    }
   },
   "outputs": [],
   "source": [
    "type(a)"
   ]
  },
  {
   "cell_type": "markdown",
   "metadata": {},
   "source": [
    "Similar syntax for a gaussian (normal) distribution, with mean mu, standard deviation sigma:  `rng.normal(mu,sigma,size)`"
   ]
  },
  {
   "cell_type": "code",
   "execution_count": null,
   "metadata": {
    "jupyter": {
     "outputs_hidden": true
    }
   },
   "outputs": [],
   "source": [
    "a = rng.normal(0,1,(3,3))\n",
    "print(a)"
   ]
  },
  {
   "cell_type": "markdown",
   "metadata": {},
   "source": [
    "### A note on seeds  \n",
    "Let's do this process again"
   ]
  },
  {
   "cell_type": "code",
   "execution_count": null,
   "metadata": {
    "jupyter": {
     "outputs_hidden": true
    }
   },
   "outputs": [],
   "source": [
    "rng = np.random.default_rng()\n",
    "a = rng.uniform(0,1,5)\n",
    "print(a)"
   ]
  },
  {
   "cell_type": "markdown",
   "metadata": {},
   "source": [
    "And again, this time asking for two random arrays as well"
   ]
  },
  {
   "cell_type": "code",
   "execution_count": null,
   "metadata": {
    "jupyter": {
     "outputs_hidden": true
    }
   },
   "outputs": [],
   "source": [
    "rng = np.random.default_rng()\n",
    "a = rng.uniform(0,1,5)\n",
    "b = rng.uniform(0,1,5)\n",
    "print(a)\n",
    "print(b)"
   ]
  },
  {
   "cell_type": "markdown",
   "metadata": {},
   "source": [
    "Each time above get something different, as expected:  a new seed is drawn from the operating system when we make the rng, and then it keeps advancing as we call it.\n",
    "\n",
    "* But, what if we want to re-use a random sequence?  We specify the seed when making the rng, as an integer -- creating reproducible behavior.  Depending on your objectives, this can be good, or very bad!"
   ]
  },
  {
   "cell_type": "code",
   "execution_count": null,
   "metadata": {
    "jupyter": {
     "outputs_hidden": true
    }
   },
   "outputs": [],
   "source": [
    "rng = np.random.default_rng(124)\n",
    "a = rng.uniform(0,1,5)\n",
    "print(a)"
   ]
  },
  {
   "cell_type": "code",
   "execution_count": null,
   "metadata": {
    "jupyter": {
     "outputs_hidden": true
    }
   },
   "outputs": [],
   "source": [
    "rng = np.random.default_rng(124)\n",
    "a = rng.uniform(0,1,5)\n",
    "print(a)\n",
    "b = rng.uniform(0,1,5)\n",
    "print(b)"
   ]
  },
  {
   "cell_type": "markdown",
   "metadata": {},
   "source": [
    "There are tons more distributions that can be sampled using our rng.  Check out the documentation ... https://numpy.org/doc/stable/reference/random/generator.html"
   ]
  },
  {
   "cell_type": "markdown",
   "metadata": {},
   "source": [
    "# Flow control"
   ]
  },
  {
   "cell_type": "markdown",
   "metadata": {},
   "source": [
    "The material below draws on tutorial 2 of ...\n",
    "\n",
    "* The Allen Institute's superb Python Bootcamp, at https://github.com/AllenInstitute/SWDB_2019/tree/master/PythonBootcamp\n",
    "\n",
    "I strongly encourage you to visit the Allen's Python Bootcamp for much more -- including a general introduction to Python's fundamental data structures and objects!  Here we will focus on getting going fast with numerical computing.\n",
    "\n",
    "<p><b>Documentation:  </b> <a href=https://docs.python.org/3/tutorial/controlflow.html>Control Flow</a>\n",
    "</div>\n",
    "\n"
   ]
  },
  {
   "cell_type": "markdown",
   "metadata": {},
   "source": [
    "## Conditionals: if, elif, and else"
   ]
  },
  {
   "cell_type": "markdown",
   "metadata": {},
   "source": [
    "A code block following `if` will be run if the corresponding logical test is `True` "
   ]
  },
  {
   "cell_type": "code",
   "execution_count": null,
   "metadata": {
    "jupyter": {
     "outputs_hidden": true
    }
   },
   "outputs": [],
   "source": [
    "x = 2\n",
    "\n",
    "if x == 3:\n",
    "    print(\"x equals 3\")\n",
    "    \n",
    "if x == 2:\n",
    "    print(\"x equals 2\")"
   ]
  },
  {
   "cell_type": "markdown",
   "metadata": {},
   "source": [
    "Note once again that the body of the statement is demarcated by indentation."
   ]
  },
  {
   "cell_type": "markdown",
   "metadata": {},
   "source": [
    "Here, the `==` gives a logical test that returns a boolean value (`True` or `False`)"
   ]
  },
  {
   "cell_type": "code",
   "execution_count": null,
   "metadata": {
    "jupyter": {
     "outputs_hidden": true
    }
   },
   "outputs": [],
   "source": [
    "print(x==2)"
   ]
  },
  {
   "cell_type": "markdown",
   "metadata": {},
   "source": [
    "Here are similar expressions:"
   ]
  },
  {
   "cell_type": "code",
   "execution_count": null,
   "metadata": {
    "jupyter": {
     "outputs_hidden": true
    }
   },
   "outputs": [],
   "source": [
    "print(x > 2)   \n",
    "print(x <= 2)  # less than or equal\n",
    "print(x != 2)  # not equal"
   ]
  },
  {
   "cell_type": "markdown",
   "metadata": {},
   "source": [
    "Several expressions can be connected via `and` or `or`"
   ]
  },
  {
   "cell_type": "code",
   "execution_count": null,
   "metadata": {
    "jupyter": {
     "outputs_hidden": true
    }
   },
   "outputs": [],
   "source": [
    "print((x >= 2) and (x < 10))\n",
    "print((x >= 2) or (x > 10))"
   ]
  },
  {
   "cell_type": "markdown",
   "metadata": {},
   "source": [
    "To implement a sequence of tests:  if, else if, else if, ..., else, one can optionally add other conditionals to the original if statement.  The syntax for \"else if\" in python is `elif`.\n",
    "\n",
    "Python begins with the first conditional.  If the first conditional is true, it runs the corresponding code block and then terminates (it will not go to the next conditionals down the list). If the first conditional is false, it moves on to the next conditional.  \n",
    "\n",
    "Try the following with x changed to 0.9 and other values to see how this works."
   ]
  },
  {
   "cell_type": "code",
   "execution_count": null,
   "metadata": {
    "jupyter": {
     "outputs_hidden": true
    },
    "scrolled": true
   },
   "outputs": [],
   "source": [
    "x=1.9\n",
    "\n",
    "if x < 1:\n",
    "    print(\"x is less than 1\")\n",
    "elif x<2: \n",
    "    print(\"x is less than 2 but not less than 1\")\n",
    "else: \n",
    "    print(\"x is not less than 1 and not less than 2\")\n"
   ]
  },
  {
   "cell_type": "markdown",
   "metadata": {},
   "source": [
    "## Maximum / minimum operations"
   ]
  },
  {
   "cell_type": "markdown",
   "metadata": {},
   "source": [
    "To get the largest element in an array, use max"
   ]
  },
  {
   "cell_type": "code",
   "execution_count": null,
   "metadata": {},
   "outputs": [],
   "source": [
    "a=np.array([1,2,3])\n",
    "np.max(a)"
   ]
  },
  {
   "cell_type": "markdown",
   "metadata": {},
   "source": [
    "To get the largest element from comparing TWO arrays, use maximum"
   ]
  },
  {
   "cell_type": "markdown",
   "metadata": {},
   "source": [
    "np.maximum(a,4)"
   ]
  },
  {
   "cell_type": "code",
   "execution_count": null,
   "metadata": {},
   "outputs": [],
   "source": [
    "np.maximum(a,0)"
   ]
  },
  {
   "cell_type": "markdown",
   "metadata": {},
   "source": [
    "MATLAB GOTCHA:  these are not interchangeable -- that is, if you try maximum with just one input argument, it will not work:"
   ]
  },
  {
   "cell_type": "code",
   "execution_count": null,
   "metadata": {},
   "outputs": [],
   "source": [
    "np.maximum(a)"
   ]
  },
  {
   "cell_type": "markdown",
   "metadata": {},
   "source": [
    "MATLAB GOTCHA:  these are not interchangeable -- moreover, using max will not always give a 'full array' output, again unlike MATLAB ... "
   ]
  },
  {
   "cell_type": "code",
   "execution_count": null,
   "metadata": {},
   "outputs": [],
   "source": [
    "np.max(a,0)"
   ]
  },
  {
   "cell_type": "code",
   "execution_count": null,
   "metadata": {},
   "outputs": [],
   "source": []
  }
 ],
 "metadata": {
  "kernelspec": {
   "display_name": "Python 3 (ipykernel)",
   "language": "python",
   "name": "python3"
  },
  "language_info": {
   "codemirror_mode": {
    "name": "ipython",
    "version": 3
   },
   "file_extension": ".py",
   "mimetype": "text/x-python",
   "name": "python",
   "nbconvert_exporter": "python",
   "pygments_lexer": "ipython3",
   "version": "3.9.7"
  }
 },
 "nbformat": 4,
 "nbformat_minor": 4
}
