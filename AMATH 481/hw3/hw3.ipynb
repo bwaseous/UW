{
 "cells": [
  {
   "cell_type": "code",
   "execution_count": 1,
   "metadata": {},
   "outputs": [],
   "source": [
    "import numpy as np\n",
    "import scipy as sp\n",
    "from scipy import sparse\n",
    "from scipy import integrate\n",
    "from scipy.sparse import linalg\n",
    "import matplotlib.pyplot as plt\n",
    "from matplotlib import animation, rc\n",
    "import time\n",
    "\n",
    "#%matplotlib ipympl\n",
    "\n",
    "plt.rcParams['figure.dpi']= 300\n",
    "plt.rcParams['axes.facecolor']='white'\n",
    "plt.rcParams['savefig.facecolor']='white'"
   ]
  },
  {
   "cell_type": "code",
   "execution_count": 11,
   "metadata": {},
   "outputs": [
    {
     "name": "stderr",
     "output_type": "stream",
     "text": [
      "c:\\Users\\Bwa\\anaconda3\\lib\\site-packages\\scipy\\sparse\\_index.py:82: SparseEfficiencyWarning: Changing the sparsity structure of a csc_matrix is expensive. lil_matrix is more efficient.\n",
      "  self._set_intXint(row, col, x.flat[0])\n"
     ]
    }
   ],
   "source": [
    "## Problem 1 ##\n",
    "L = 10\n",
    "h = 0.1\n",
    "xspan = np.linspace(-L, L, 201)[:-1]\n",
    "tspan = np.arange(0,10.5,.5)\n",
    "u_0 = np.exp(-1*(xspan - 5)**2)\n",
    "\n",
    "## a ##\n",
    "A = sp.sparse.spdiags([-1*np.ones(len(xspan)), np.ones(len(xspan))],\n",
    "                      [-1,1], len(xspan), len(xspan), format = 'csc')/(2*h)\n",
    "A[-1,0] = 1/(2*h)\n",
    "A[0,-1] = -1/(2*h)\n",
    "A1 = A.todense()\n",
    "\n",
    "## b ##\n",
    "def advection(t,x,A,c):\n",
    "    deriv = -c*(A@x)\n",
    "    return deriv\n",
    "\n",
    "c = -0.5\n",
    "sol = sp.integrate.solve_ivp(advection, [0,10], args = (A,c), y0 = u_0, \n",
    "                             t_eval = tspan, method = 'RK45')\n",
    "A2 = sol.y\n",
    "\n",
    "## c ##\n",
    "def heaviside_advection(t,x,A,xspan):\n",
    "    c = -(1 + 2*np.sin(5*t) - np.heaviside(xspan-4,0))\n",
    "    x = -c*(A@x)\n",
    "    return x\n",
    "\n",
    "sol = sp.integrate.solve_ivp(heaviside_advection, [0,10], args = (A, xspan), \n",
    "                             y0 = u_0, t_eval = tspan, method = 'RK45')\n",
    "A3 = sol.y"
   ]
  },
  {
   "cell_type": "code",
   "execution_count": 12,
   "metadata": {},
   "outputs": [
    {
     "name": "stdout",
     "output_type": "stream",
     "text": [
      "(200, 200)\n"
     ]
    }
   ],
   "source": [
    "print(np.shape(A))"
   ]
  },
  {
   "cell_type": "code",
   "execution_count": 6,
   "metadata": {},
   "outputs": [
    {
     "data": {
      "text/plain": [
       "5.0"
      ]
     },
     "execution_count": 6,
     "metadata": {},
     "output_type": "execute_result"
    }
   ],
   "source": [
    "A1[-1,0]"
   ]
  },
  {
   "cell_type": "code",
   "execution_count": null,
   "metadata": {},
   "outputs": [],
   "source": [
    "## Problem 1 Presentation ##\n",
    "## b ##\n",
    "xspan = np.linspace(-L, L, 201)[:-1]\n",
    "tspan = np.arange(0,10.5,.01)\n",
    "X, T = np.meshgrid(xspan,tspan)\n",
    "\n",
    "plt.subplot(211)\n",
    "plt.imshow(-0.5*np.ones((21,200)), vmin = -0.75, vmax = 0.75, extent = (-L,L,0,10), \n",
    "           cmap = 'magma', aspect = 'auto', interpolation = 'antialiased')\n",
    "plt.title('Temporal-Spatial evolution of constant and sinusoidal $c(x,t)$')\n",
    "plt.ylabel('t')\n",
    "plt.xticks([])\n",
    "plt.subplot(212)\n",
    "plt.imshow(-(1 + 2*np.sin(5*T) - np.heaviside(X-4,0)), vmin = -0.75, vmax = 0.75,  \n",
    "           extent = (-L,L,0,10), cmap = 'magma', aspect = 'auto', interpolation = 'antialiased')\n",
    "plt.title('Sinusoidal')\n",
    "plt.xlabel('x')\n",
    "plt.ylabel('t')\n",
    "plt.subplots_adjust(bottom=0.1, right=0.8, top=0.9)\n",
    "cax = plt.axes([0.85, 0.1, 0.075, 0.8])\n",
    "plt.colorbar(cax=cax)\n",
    "plt.show()"
   ]
  },
  {
   "cell_type": "code",
   "execution_count": null,
   "metadata": {},
   "outputs": [],
   "source": [
    "## c ##\n",
    "X, T = np.meshgrid(xspan,sol.t)\n",
    "fig, ax = plt.subplots(1,2, subplot_kw={\"projection\": \"3d\"}, figsize = (6,3))\n",
    "surf1 = ax[0].plot_surface(X, T, A2.T,cmap='magma')\n",
    "surf2 = ax[1].plot_surface(X, T, A3.T,cmap='magma')\n",
    "ax[0].set_xlabel('$x$')\n",
    "ax[0].set_title('$c(x,t) = -0.5$', fontsize = 8)\n",
    "ax[1].set_xlabel('$x$')\n",
    "ax[1].set_ylabel('$t$')\n",
    "ax[1].set_title('$c(x,t) = -(1+2\\sin 5t - H(x-4))$', fontsize = 8)\n",
    "ax[1].set_zlabel('$u(x,t)$')\n",
    "fig.suptitle('Numerical Solution to Advection equation with varying $c(x,t)$')\n",
    "plt.show()"
   ]
  },
  {
   "cell_type": "code",
   "execution_count": 3,
   "metadata": {},
   "outputs": [],
   "source": [
    "## Problem 2 ##\n",
    "nu = 0.001\n",
    "L = 10\n",
    "m = 64\n",
    "n = m**2\n",
    "dt = 0.5\n",
    "t_max = 4\n",
    "\n",
    "xspan = np.linspace(-L,L,m+1)[:-1]\n",
    "yspan = np.linspace(-L,L,m+1)[:-1]\n",
    "tspan = np.arange(0,t_max + dt,dt)\n",
    "\n",
    "h = xspan[1] - xspan[0]\n",
    "\n",
    "X, Y = np.meshgrid(xspan, yspan)\n",
    "w_0 = np.exp(-2*X.T**2 - (Y.T**2)/20).flatten()\n",
    "\n",
    "## a ##\n",
    "e1 = np.ones(n) # vector of ones\n",
    "Low1 = np.tile(np.concatenate((np.ones(m-1), [0])), (m,)) # Lower diagonal 1\n",
    "Low2 = np.tile(np.concatenate(([1], np.zeros(m-1))), (m,)) #Lower diagonal 2\n",
    "\n",
    "Up1 = np.roll(Low1, 1) # Shift the array for spdiags\n",
    "Up2 = np.roll(Low2, m-1) # Shift the other array\n",
    "\n",
    "A = sp.sparse.spdiags([e1, e1, Low2, Low1, -4*e1, Up1, Up2, e1, e1],\n",
    "            [-(n-m), -m, -m+1, -1, 0, 1, m-1, m, (n-m)], n, n, format = 'csc')/h**2\n",
    "A[0,0] = 2/h**2\n",
    "\n",
    "B = sp.sparse.spdiags([e1, -e1, e1, -e1], [-(n - m), -m, m, (n-m)], \n",
    "                      n, n, format = 'csc')/(2*h)\n",
    "\n",
    "C = sp.sparse.spdiags([Low2, -Low1, Up1, -Up2], [-m+1,-1,1,m-1], n, n, format = 'csc')/(2*h)\n",
    "\n",
    "A4 = A.todense()\n",
    "A5 = B.todense()\n",
    "A6 = C.todense()\n",
    "\n",
    "## bi ##\n",
    "def gauss_vort(t, x, A, B, C, nu):\n",
    "    psi = sp.sparse.linalg.spsolve(A,x)\n",
    "    x = -((B@psi)*(C@x) - (C@psi)*(B@x)) + nu*(A@x)\n",
    "    return x\n",
    "\n",
    "t_gauss = time.time()\n",
    "sol = sp.integrate.solve_ivp(gauss_vort, [0,t_max], y0 = w_0, args = (A,B,C,nu), \n",
    "                            t_eval = tspan, method = 'RK45')\n",
    "t_gauss = time.time() - t_gauss\n",
    "\n",
    "A7 = sol.y.T\n",
    "\n",
    "## bii ##\n",
    "lusolver = sp.sparse.linalg.splu(A)\n",
    "\n",
    "def plu_vort(t, x, lusolver, B, C, nu):\n",
    "    psi = lusolver.solve(x)\n",
    "    x = -((B@psi)*(C@x) - (C@psi)*(B@x)) + nu*(A@x)\n",
    "    return x\n",
    "\n",
    "t_plu= time.time()\n",
    "sol = sp.integrate.solve_ivp(plu_vort, [0,t_max], y0 = w_0, args = (lusolver,B,C,nu), \n",
    "                            t_eval = tspan, method = 'RK45')\n",
    "t_plu = time.time() - t_plu\n",
    "\n",
    "A8 = sol.y.T\n",
    "\n",
    "A9 = sol.y.T.reshape(len(tspan),m,m)"
   ]
  },
  {
   "cell_type": "code",
   "execution_count": null,
   "metadata": {},
   "outputs": [],
   "source": [
    "## Problem 2 Presentation (a) ##\n",
    "nu = 0.001\n",
    "L = 10\n",
    "m = 64\n",
    "n = m**2\n",
    "dt = 0.1\n",
    "t_max = 4\n",
    "\n",
    "xspan = np.linspace(-L,L,m+1)[:-1]\n",
    "yspan = np.linspace(-L,L,m+1)[:-1]\n",
    "tspan = np.linspace(0,t_max, int(t_max/dt)+1)\n",
    "\n",
    "h = xspan[1] - xspan[0]\n",
    "\n",
    "X, Y = np.meshgrid(xspan, yspan)\n",
    "w_0 = np.exp(-2*X.T**2 - (Y.T**2)/20).flatten()\n",
    "\n",
    "lusolver = sp.sparse.linalg.splu(A)\n",
    "\n",
    "def plu_vort(t, x, lusolver, B, C, nu):\n",
    "    psi = lusolver.solve(x)\n",
    "    x = -((B@psi)*(C@x) - (C@psi)*(B@x)) + nu*(A@x)\n",
    "    return x\n",
    "\n",
    "t_plu= time.time()\n",
    "sol = sp.integrate.solve_ivp(plu_vort, [0,t_max], y0 = w_0, args = (lusolver,B,C,nu), \n",
    "                            t_eval = tspan, method = 'RK45')\n",
    "t_plu = time.time() - t_plu\n",
    "\n",
    "to_animate = sol.y.T.reshape(len(tspan),m,m)"
   ]
  },
  {
   "cell_type": "code",
   "execution_count": null,
   "metadata": {},
   "outputs": [],
   "source": [
    "fig, ax = plt.subplots(1,1)\n",
    "im = ax.pcolor(X,Y,to_animate[0,:,:].T, cmap = 'magma')\n",
    "fig.colorbar(im)\n",
    "ax.set_xlim([-9,9])\n",
    "ax.set_ylim([-9,9])\n",
    "ax.set_ylabel('y')\n",
    "ax.set_xlabel('x')\n",
    "\n",
    "def update(frame):\n",
    "    im.set_array(to_animate[frame,:,:].T.ravel())\n",
    "    ax.set_title(f\"Vorticity ($\\omega$) Evolution at time t = {np.round(tspan[frame],decimals = 1)}\", loc = 'left', font = 'monospace')\n",
    "    ax.set_xlim([-9,9])\n",
    "    ax.set_ylim([-9,9])\n",
    "    return im,\n",
    "\n",
    "ani = animation.FuncAnimation(fig, update, frames = range(len(tspan)-1), interval = 1, blit = True)\n",
    "\n",
    "writergif = animation.PillowWriter(fps = 24)\n",
    "ani.save('vortex_true.gif', writer = writergif)"
   ]
  }
 ],
 "metadata": {
  "kernelspec": {
   "display_name": "Python 3.9.13 ('base')",
   "language": "python",
   "name": "python3"
  },
  "language_info": {
   "codemirror_mode": {
    "name": "ipython",
    "version": 3
   },
   "file_extension": ".py",
   "mimetype": "text/x-python",
   "name": "python",
   "nbconvert_exporter": "python",
   "pygments_lexer": "ipython3",
   "version": "3.9.13"
  },
  "orig_nbformat": 4,
  "vscode": {
   "interpreter": {
    "hash": "4aabf759f25710f0951a34b80e5c3f94712899445847724546d66ee4abd8e9c5"
   }
  }
 },
 "nbformat": 4,
 "nbformat_minor": 2
}
