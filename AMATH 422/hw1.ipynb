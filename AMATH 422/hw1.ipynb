{
 "cells": [
  {
   "cell_type": "markdown",
   "metadata": {},
   "source": [
    "$\\huge{\\text{HW 1}}$\n",
    "\n",
    "Avinash Joshi\n",
    "\n",
    "AMATH 422 Au 22\n",
    "\n",
    "5 October 2022\n",
    "\n",
    "---\n",
    "---"
   ]
  },
  {
   "cell_type": "markdown",
   "metadata": {},
   "source": [
    "## I\n",
    "\n",
    "#### (a)\n",
    "The citation is as follows:\n",
    "\n",
    ">J. Hopfield. Neural networks and physical systems with emergent collective computational abilities. PNAS 79 (8) 2554-2558, 1982.\n",
    "\n",
    "#### (b)\n",
    "The model presented by Hopfield attempts to explain how collective computational properties arise in the brain and how it specifically counteracts errors in memory storage and retrieval, e.g., when you give the brain \"Helbo, __ name __ Avi,\" it corrects the error to \"Hello, my name is Avi,\" or you give the network the string \"110__\" and it returns the full, stored message \"11011.\"\n",
    "\n",
    "#### (c)\n",
    "The variables of the model are $T_{ij}$ (the strength of a connection made by neuron $j$ to $i$), $V_i$ (the state of the neuron that is either firing or not), $V^s$ (the stored state wished to be retrieved or corrected by the network), and $E$ (the Hopfield energy of the system). The parameters are, mainly, $U_i$ (the threshold neuron $i$ must surpass to be firing), N (the number of neurons), and $n$ (the random memory states given to the network and evolved to see if they reach stable minima). \n",
    "\n",
    "#### (d)\n",
    "One major simplifying assumptions made by Hopfield is that there cannot be any connection between a node/neuron in a network/brain to itself, i.e., $T_{ii} = 0$, where $T_{ij}$ is defined as the strength of connection between node $j$ to node $i$ and $0$ indicates no connection.\n",
    "\n",
    "---"
   ]
  },
  {
   "cell_type": "markdown",
   "metadata": {},
   "source": [
    "## II\n",
    "\n",
    "**Tip 1:**\n",
    "\n",
    "When in doubt, look at the package's documentation. If you are having trouble using a package, e.g., `numpy` or `matplotlib`, look at their documentation and other guides.\n",
    "\n",
    "\n",
    "**Tip 2:**\n",
    "\n",
    "Make sure to initialize dataframes or arrays when doing computation unless you are certain your code properly produces the desired structure, e.g., `numpy.zeros(())` or similar.\n",
    "\n",
    "**Tip 3:**\n",
    "\n",
    "While copying other people's code is cheating, looking at how other people code a problem or related problems will help you learn packages (especially for making graphs!). Looking at `stackoverflow` for synatx help or efficient ways to make professional diagrams can help significantly in mastery of packages.\n",
    "\n",
    "---\n"
   ]
  }
 ],
 "metadata": {
  "kernelspec": {
   "display_name": "Python 3.9.7 ('base')",
   "language": "python",
   "name": "python3"
  },
  "language_info": {
   "name": "python",
   "version": "3.9.7"
  },
  "orig_nbformat": 4,
  "vscode": {
   "interpreter": {
    "hash": "4aabf759f25710f0951a34b80e5c3f94712899445847724546d66ee4abd8e9c5"
   }
  }
 },
 "nbformat": 4,
 "nbformat_minor": 2
}
