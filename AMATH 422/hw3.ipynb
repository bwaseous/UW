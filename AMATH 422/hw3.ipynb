{
 "cells": [
  {
   "cell_type": "markdown",
   "metadata": {},
   "source": [
    "## HW 3\n",
    "\n",
    "Avinash Joshi\n",
    "\n",
    "19 October 2022\n",
    "\n",
    "AMATH 422 Au 22"
   ]
  },
  {
   "cell_type": "code",
   "execution_count": 7,
   "metadata": {},
   "outputs": [],
   "source": [
    "import matplotlib.pyplot as plt\n",
    "import numpy as np\n",
    "import scipy as sp\n",
    "\n",
    "plt.rcParams['axes.facecolor'] = 'white'\n",
    "plt.rcParams['savefig.facecolor'] = 'white'"
   ]
  },
  {
   "cell_type": "code",
   "execution_count": 3,
   "metadata": {},
   "outputs": [],
   "source": [
    "## setting up owl population dynamic matrix ##\n",
    "A = np.zeros((51,51))\n",
    "A[1,0] = 0.361\n",
    "A[2,1] = 0.4\n",
    "A[3,2] = 0.5\n",
    "\n",
    "for i in range(51):\n",
    "    if (i<50) and (A[i+1,i] == 0):\n",
    "        A[i+1,i] = 0.942\n",
    "    if i>=3:\n",
    "        A[0,i] = 0.24"
   ]
  },
  {
   "cell_type": "code",
   "execution_count": 4,
   "metadata": {},
   "outputs": [],
   "source": [
    "## calculating eig vals, eig vecs, and left eig vecs ##\n",
    "l, v = np.linalg.eig(A)\n",
    "\n",
    "idx = np.argsort(np.abs(l))\n",
    "l_max = np.abs(l).max()\n",
    "v_max = v[:,idx[-1]]\n",
    "\n",
    "l, w = np.linalg.eig(A.T)\n",
    "idx = np.argsort(np.abs(l))\n",
    "w_max = w[:,idx[-1]] "
   ]
  },
  {
   "cell_type": "code",
   "execution_count": 5,
   "metadata": {},
   "outputs": [],
   "source": [
    "## calculating matrix of elasticity ##\n",
    "s = (w_max.reshape(-1,1)@v_max.reshape(1,-1))/(v_max@w_max)\n",
    "e = s*A/l_max\n",
    "\n",
    "p = np.zeros((50))\n",
    "for i in range(50):\n",
    "    p[i] = np.real(e)[i+1,i]"
   ]
  },
  {
   "cell_type": "code",
   "execution_count": 6,
   "metadata": {},
   "outputs": [
    {
     "name": "stdout",
     "output_type": "stream",
     "text": [
      "The matrix of elasticies is as follows:\n",
      " [[0.     0.     0.     ... 0.0007 0.0007 0.0007]\n",
      " [0.0369 0.     0.     ... 0.     0.     0.    ]\n",
      " [0.     0.0369 0.     ... 0.     0.     0.    ]\n",
      " ...\n",
      " [0.     0.     0.     ... 0.     0.     0.    ]\n",
      " [0.     0.     0.     ... 0.0015 0.     0.    ]\n",
      " [0.     0.     0.     ... 0.     0.0007 0.    ]]\n",
      "\n",
      "The elasticies of the fecundities are as follows: \n",
      " [0.      0.      0.      0.00081 0.0008  0.0008  0.0008  0.0008  0.0008\n",
      " 0.0008  0.00079 0.00079 0.00079 0.00079 0.00079 0.00079 0.00078 0.00078\n",
      " 0.00078 0.00078 0.00078 0.00078 0.00077 0.00077 0.00077 0.00077 0.00077\n",
      " 0.00077 0.00077 0.00076 0.00076 0.00076 0.00076 0.00076 0.00076 0.00076\n",
      " 0.00075 0.00075 0.00075 0.00075 0.00075 0.00075 0.00074 0.00074 0.00074\n",
      " 0.00074 0.00074 0.00074 0.00074 0.00073 0.00073]\n",
      "\n",
      "The elasticies of the death probabilites are as follows: \n",
      " [0.03688 0.03688 0.03688 0.03607 0.03527 0.03447 0.03367 0.03287 0.03207\n",
      " 0.03128 0.03048 0.02969 0.0289  0.02811 0.02732 0.02654 0.02575 0.02497\n",
      " 0.02419 0.02341 0.02263 0.02186 0.02108 0.02031 0.01954 0.01876 0.018\n",
      " 0.01723 0.01646 0.0157  0.01494 0.01418 0.01342 0.01266 0.0119  0.01115\n",
      " 0.01039 0.00964 0.00889 0.00814 0.00739 0.00665 0.0059  0.00516 0.00442\n",
      " 0.00368 0.00294 0.0022  0.00147 0.00073]\n"
     ]
    }
   ],
   "source": [
    "np.set_printoptions(precision = 4, threshold = False)\n",
    "print(f'The matrix of elasticies is as follows:\\n {np.real(e)}\\n')\n",
    "np.set_printoptions(precision = 5, threshold = np.inf)\n",
    "print(f'The elasticies of the fecundities are as follows: \\n {np.real(e[0,:])}\\n')\n",
    "print(f'The elasticies of the death probabilites are as follows: \\n {p}')"
   ]
  },
  {
   "cell_type": "markdown",
   "metadata": {},
   "source": [
    "Looking at all of the values of the fecundities at age 3 and above, there is a slight but noticeable decrease in the elasticity of values from about $e_{0,j} = 8.1 \\times 10^{-4}$, due to them being able to have offspring at age $a=3$ , to $e_{0j} = 7.3 \\times 10^{-4}$, as less and less owls make it into their advanced years of maturity to produce offspring. Likewise, the elasticies for annual survival probabilites are the highest betweeen ages $0$ to $3$ due to that time period having the highest mortality rate among the female owls while lowest at age 50 since few owls make it to that age. \n",
    " \n",
    "By increasing the survivability of young, immature offspring (specifically ages $0$ to $3$), the greatest good can be done for female northern spotted owls. Likewise, ensuring the survivability of early maturity owls (which I define to about the first 10 years of maturity) can contribute similarly positive results to the species survival."
   ]
  },
  {
   "cell_type": "markdown",
   "metadata": {},
   "source": [
    "Thanks for reading!\n",
    "\n",
    "-Avi"
   ]
  }
 ],
 "metadata": {
  "kernelspec": {
   "display_name": "Python 3.9.12 ('base')",
   "language": "python",
   "name": "python3"
  },
  "language_info": {
   "codemirror_mode": {
    "name": "ipython",
    "version": 3
   },
   "file_extension": ".py",
   "mimetype": "text/x-python",
   "name": "python",
   "nbconvert_exporter": "python",
   "pygments_lexer": "ipython3",
   "version": "3.9.12"
  },
  "orig_nbformat": 4,
  "vscode": {
   "interpreter": {
    "hash": "4aabf759f25710f0951a34b80e5c3f94712899445847724546d66ee4abd8e9c5"
   }
  }
 },
 "nbformat": 4,
 "nbformat_minor": 2
}
